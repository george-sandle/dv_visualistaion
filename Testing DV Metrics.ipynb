{
 "cells": [
  {
   "cell_type": "markdown",
   "id": "28201dc2-97bc-45f7-8578-23777e556e1b",
   "metadata": {},
   "source": [
    "-- Parameters --\n",
    "\n",
    "Model: Chooses the model that is undersampled.\n",
    "Predictions: Combined uses the combined_garmpreds function. No_Keywoads uses the unitary_garmpreds function and omits keywords\n",
    "Garm_Category: Loads performance metrics for a particular Garm_Category\n",
    "Metric: Loads figures for a particular metric\n",
    "Precision: results with either the High or Standard precision garm wrapper\n",
    "\n"
   ]
  },
  {
   "cell_type": "code",
   "execution_count": 1,
   "id": "540ec85f-561e-4012-b239-d1d7e9b0ed28",
   "metadata": {},
   "outputs": [],
   "source": [
    "import pickle\n",
    "import os\n",
    "from ipywidgets import interact, widgets\n",
    "import matplotlib.pyplot as plt\n",
    "import pandas as pd\n",
    "results = pickle.load(open(os.getcwd()+f'/all_results.pkl',mode='rb'))\n",
    "metrics = pickle.load(open(os.getcwd()+f'/combined_metrics.pkl',mode='rb'))\n",
    "models = ['risks_timeline','visual_content_timeline','ocr_timeline','nsfw_timeline']"
   ]
  },
  {
   "cell_type": "code",
   "execution_count": 2,
   "id": "0bccb350-a073-4a67-b0e5-1c6dc756dda8",
   "metadata": {},
   "outputs": [
    {
     "data": {
      "application/vnd.jupyter.widget-view+json": {
       "model_id": "39fa021752654e49a111564703851c62",
       "version_major": 2,
       "version_minor": 0
      },
      "text/plain": [
       "interactive(children=(Dropdown(description='Model', options=('risks_timeline', 'visual_content_timeline', 'ocr…"
      ]
     },
     "metadata": {},
     "output_type": "display_data"
    },
    {
     "data": {
      "text/plain": [
       "<function __main__.f(Model, Predictions, Garm_Category, Metric, Precision)>"
      ]
     },
     "execution_count": 2,
     "metadata": {},
     "output_type": "execute_result"
    }
   ],
   "source": [
    "\n",
    "percentages = [1.0,0.5,0.2,0.1]\n",
    "\n",
    "\n",
    "fps_dict = { 'risks_timeline':[10,5,2,1],'visual_content_timeline':[10,5,2,1],'ocr_timeline':[1.0,0.5,0.2,0.1],'nsfw_timeline':[1.0,0.5,0.2,0.1]}\n",
    "\n",
    "\n",
    "def f(Model, Predictions,Garm_Category,Metric,Precision):\n",
    "    key = Model+'_'+Predictions+' '+Precision+'_'+Garm_Category+'_'+Metric\n",
    "    plt.style.use('Solarize_Light2')\n",
    "    plt.scatter(fps_dict[Model],results[key])\n",
    "   \n",
    "    \n",
    "    plt.xlabel('FPS')\n",
    "    plt.ylabel(f'{Metric}')\n",
    "    plt.title(f'Sampling {Model} {Garm_Category} With {Precision}: Metric is {Metric}, {Predictions}')\n",
    "\n",
    "    for index in range(len(fps_dict[Model])):\n",
    "        plt.text(fps_dict[Model][index], results[key][index], results[key][index], size=12)\n",
    "    \n",
    "    plt.rcParams[\"figure.figsize\"] = (10,3)\n",
    "    plt.show()\n",
    "    plt.savefig(f'Sampling {Model} {Garm_Category} With {Precision}: Metric is {Metric}, {Predictions}.png')\n",
    "    \n",
    "widgets.interact(f, Model =models, Predictions=['Combined','No Keywords'], Precision = ['High Precision','Low Precision'],Garm_Category=list(metrics[0][0].index),Metric=list(metrics[0][0].columns))\n",
    "\n",
    "\n"
   ]
  },
  {
   "cell_type": "code",
   "execution_count": 3,
   "id": "f3fbf30b-1044-485a-8d23-2792d24009d8",
   "metadata": {},
   "outputs": [
    {
     "ename": "ValueError",
     "evalue": "Shape of passed values is (4, 1), indices imply (4, 4)",
     "output_type": "error",
     "traceback": [
      "\u001b[0;31m---------------------------------------------------------------------------\u001b[0m",
      "\u001b[0;31mValueError\u001b[0m                                Traceback (most recent call last)",
      "Input \u001b[0;32mIn [3]\u001b[0m, in \u001b[0;36m<cell line: 1>\u001b[0;34m()\u001b[0m\n\u001b[0;32m----> 1\u001b[0m df \u001b[38;5;241m=\u001b[39m \u001b[43mpd\u001b[49m\u001b[38;5;241;43m.\u001b[39;49m\u001b[43mDataFrame\u001b[49m\u001b[43m(\u001b[49m\u001b[43mpercentages\u001b[49m\u001b[43m,\u001b[49m\u001b[43mcolumns\u001b[49m\u001b[43m \u001b[49m\u001b[38;5;241;43m=\u001b[39;49m\u001b[43m \u001b[49m\u001b[43m[\u001b[49m\u001b[38;5;241;43m1.0\u001b[39;49m\u001b[43m,\u001b[49m\u001b[38;5;241;43m0.5\u001b[39;49m\u001b[43m,\u001b[49m\u001b[38;5;241;43m0.2\u001b[39;49m\u001b[43m,\u001b[49m\u001b[38;5;241;43m0.1\u001b[39;49m\u001b[43m]\u001b[49m\u001b[43m)\u001b[49m\n\u001b[1;32m      2\u001b[0m df[\u001b[38;5;124m'\u001b[39m\u001b[38;5;124mGarm Category\u001b[39m\u001b[38;5;124m'\u001b[39m] \u001b[38;5;241m=\u001b[39m garms\n\u001b[1;32m      3\u001b[0m df \u001b[38;5;241m=\u001b[39m df[[\u001b[38;5;124m'\u001b[39m\u001b[38;5;124mGarm Category\u001b[39m\u001b[38;5;124m'\u001b[39m,\u001b[38;5;241m1.0\u001b[39m,\u001b[38;5;241m0.5\u001b[39m,\u001b[38;5;241m0.2\u001b[39m,\u001b[38;5;241m0.1\u001b[39m]]\n",
      "File \u001b[0;32m~/opt/miniconda3/envs/unitary/lib/python3.10/site-packages/pandas/core/frame.py:737\u001b[0m, in \u001b[0;36mDataFrame.__init__\u001b[0;34m(self, data, index, columns, dtype, copy)\u001b[0m\n\u001b[1;32m    729\u001b[0m         mgr \u001b[38;5;241m=\u001b[39m arrays_to_mgr(\n\u001b[1;32m    730\u001b[0m             arrays,\n\u001b[1;32m    731\u001b[0m             columns,\n\u001b[0;32m   (...)\u001b[0m\n\u001b[1;32m    734\u001b[0m             typ\u001b[38;5;241m=\u001b[39mmanager,\n\u001b[1;32m    735\u001b[0m         )\n\u001b[1;32m    736\u001b[0m     \u001b[38;5;28;01melse\u001b[39;00m:\n\u001b[0;32m--> 737\u001b[0m         mgr \u001b[38;5;241m=\u001b[39m \u001b[43mndarray_to_mgr\u001b[49m\u001b[43m(\u001b[49m\n\u001b[1;32m    738\u001b[0m \u001b[43m            \u001b[49m\u001b[43mdata\u001b[49m\u001b[43m,\u001b[49m\n\u001b[1;32m    739\u001b[0m \u001b[43m            \u001b[49m\u001b[43mindex\u001b[49m\u001b[43m,\u001b[49m\n\u001b[1;32m    740\u001b[0m \u001b[43m            \u001b[49m\u001b[43mcolumns\u001b[49m\u001b[43m,\u001b[49m\n\u001b[1;32m    741\u001b[0m \u001b[43m            \u001b[49m\u001b[43mdtype\u001b[49m\u001b[38;5;241;43m=\u001b[39;49m\u001b[43mdtype\u001b[49m\u001b[43m,\u001b[49m\n\u001b[1;32m    742\u001b[0m \u001b[43m            \u001b[49m\u001b[43mcopy\u001b[49m\u001b[38;5;241;43m=\u001b[39;49m\u001b[43mcopy\u001b[49m\u001b[43m,\u001b[49m\n\u001b[1;32m    743\u001b[0m \u001b[43m            \u001b[49m\u001b[43mtyp\u001b[49m\u001b[38;5;241;43m=\u001b[39;49m\u001b[43mmanager\u001b[49m\u001b[43m,\u001b[49m\n\u001b[1;32m    744\u001b[0m \u001b[43m        \u001b[49m\u001b[43m)\u001b[49m\n\u001b[1;32m    745\u001b[0m \u001b[38;5;28;01melse\u001b[39;00m:\n\u001b[1;32m    746\u001b[0m     mgr \u001b[38;5;241m=\u001b[39m dict_to_mgr(\n\u001b[1;32m    747\u001b[0m         {},\n\u001b[1;32m    748\u001b[0m         index,\n\u001b[0;32m   (...)\u001b[0m\n\u001b[1;32m    751\u001b[0m         typ\u001b[38;5;241m=\u001b[39mmanager,\n\u001b[1;32m    752\u001b[0m     )\n",
      "File \u001b[0;32m~/opt/miniconda3/envs/unitary/lib/python3.10/site-packages/pandas/core/internals/construction.py:351\u001b[0m, in \u001b[0;36mndarray_to_mgr\u001b[0;34m(values, index, columns, dtype, copy, typ)\u001b[0m\n\u001b[1;32m    346\u001b[0m \u001b[38;5;66;03m# _prep_ndarray ensures that values.ndim == 2 at this point\u001b[39;00m\n\u001b[1;32m    347\u001b[0m index, columns \u001b[38;5;241m=\u001b[39m _get_axes(\n\u001b[1;32m    348\u001b[0m     values\u001b[38;5;241m.\u001b[39mshape[\u001b[38;5;241m0\u001b[39m], values\u001b[38;5;241m.\u001b[39mshape[\u001b[38;5;241m1\u001b[39m], index\u001b[38;5;241m=\u001b[39mindex, columns\u001b[38;5;241m=\u001b[39mcolumns\n\u001b[1;32m    349\u001b[0m )\n\u001b[0;32m--> 351\u001b[0m \u001b[43m_check_values_indices_shape_match\u001b[49m\u001b[43m(\u001b[49m\u001b[43mvalues\u001b[49m\u001b[43m,\u001b[49m\u001b[43m \u001b[49m\u001b[43mindex\u001b[49m\u001b[43m,\u001b[49m\u001b[43m \u001b[49m\u001b[43mcolumns\u001b[49m\u001b[43m)\u001b[49m\n\u001b[1;32m    353\u001b[0m \u001b[38;5;28;01mif\u001b[39;00m typ \u001b[38;5;241m==\u001b[39m \u001b[38;5;124m\"\u001b[39m\u001b[38;5;124marray\u001b[39m\u001b[38;5;124m\"\u001b[39m:\n\u001b[1;32m    355\u001b[0m     \u001b[38;5;28;01mif\u001b[39;00m \u001b[38;5;28missubclass\u001b[39m(values\u001b[38;5;241m.\u001b[39mdtype\u001b[38;5;241m.\u001b[39mtype, \u001b[38;5;28mstr\u001b[39m):\n",
      "File \u001b[0;32m~/opt/miniconda3/envs/unitary/lib/python3.10/site-packages/pandas/core/internals/construction.py:422\u001b[0m, in \u001b[0;36m_check_values_indices_shape_match\u001b[0;34m(values, index, columns)\u001b[0m\n\u001b[1;32m    420\u001b[0m passed \u001b[38;5;241m=\u001b[39m values\u001b[38;5;241m.\u001b[39mshape\n\u001b[1;32m    421\u001b[0m implied \u001b[38;5;241m=\u001b[39m (\u001b[38;5;28mlen\u001b[39m(index), \u001b[38;5;28mlen\u001b[39m(columns))\n\u001b[0;32m--> 422\u001b[0m \u001b[38;5;28;01mraise\u001b[39;00m \u001b[38;5;167;01mValueError\u001b[39;00m(\u001b[38;5;124mf\u001b[39m\u001b[38;5;124m\"\u001b[39m\u001b[38;5;124mShape of passed values is \u001b[39m\u001b[38;5;132;01m{\u001b[39;00mpassed\u001b[38;5;132;01m}\u001b[39;00m\u001b[38;5;124m, indices imply \u001b[39m\u001b[38;5;132;01m{\u001b[39;00mimplied\u001b[38;5;132;01m}\u001b[39;00m\u001b[38;5;124m\"\u001b[39m)\n",
      "\u001b[0;31mValueError\u001b[0m: Shape of passed values is (4, 1), indices imply (4, 4)"
     ]
    }
   ],
   "source": [
    "df = pd.DataFrame(percentages,columns = [1.0,0.5,0.2,0.1])\n",
    "df['Garm Category'] = garms\n",
    "df = df[['Garm Category',1.0,0.5,0.2,0.1]]\n",
    "\n",
    "df = df.set_index('Garm Category')\n",
    "print(df)\n",
    "norm = matplotlib.colors.Normalize(-1,1)\n",
    "colors = [[norm(-1.0), \"white\"],\n",
    "            [norm( 1.0), \"white\"]]\n",
    "cmap = matplotlib.colors.LinearSegmentedColormap.from_list(\"\", colors)\n",
    "    # Make plot\n",
    "    \n",
    "df_n = df.div(df.max(axis=1), axis=0)\n",
    "plot = sns.heatmap(df_n, annot=True, cmap=cmap, cbar=False)\n"
   ]
  },
  {
   "cell_type": "code",
   "execution_count": 4,
   "id": "bf1f0110-4360-4226-a943-0e04707f0216",
   "metadata": {},
   "outputs": [],
   "source": [
    "import matplotlib\n",
    "import seaborn as sns\n",
    "\n",
    "def save_df_as_image(df, path):\n",
    "    # Set background to white\n",
    "    norm = matplotlib.colors.Normalize(-1,1)\n",
    "    colors = [[norm(-1.0), \"white\"],\n",
    "            [norm( 1.0), \"white\"]]\n",
    "    cmap = matplotlib.colors.LinearSegmentedColormap.from_list(\"\", colors)\n",
    "    # Make plot\n",
    "    plot = sns.heatmap(df, annot=True, cmap=cmap, cbar=False)\n",
    "    fig = plot.get_figure()\n",
    "    fig.savefig(path)"
   ]
  },
  {
   "cell_type": "code",
   "execution_count": 23,
   "id": "48c9a912-1d36-4738-8766-f3dc0dfc9271",
   "metadata": {},
   "outputs": [
    {
     "data": {
      "text/plain": [
       "numpy.float64"
      ]
     },
     "execution_count": 23,
     "metadata": {},
     "output_type": "execute_result"
    }
   ],
   "source": [
    "type(results['risks_timeline_Combined High Precision_DV_ADULT_SEXUAL_precision'][0])"
   ]
  },
  {
   "cell_type": "code",
   "execution_count": 5,
   "id": "366edc92-bb4d-439f-8f65-84a7be58a2ab",
   "metadata": {},
   "outputs": [
    {
     "data": {
      "application/vnd.jupyter.widget-view+json": {
       "model_id": "44fad16c5df84821908f622d708b9bbd",
       "version_major": 2,
       "version_minor": 0
      },
      "text/plain": [
       "interactive(children=(Dropdown(description='Model', options=('risks_timeline', 'visual_content_timeline', 'ocr…"
      ]
     },
     "metadata": {},
     "output_type": "display_data"
    },
    {
     "data": {
      "text/plain": [
       "<function __main__.f(Model, Predictions, Metric, Precision)>"
      ]
     },
     "execution_count": 5,
     "metadata": {},
     "output_type": "execute_result"
    }
   ],
   "source": [
    "garms = list(metrics[0][0].index)\n",
    "perfomance_metrics = list(metrics[0][0].columns)\n",
    "garm = garms[0]\n",
    "\n",
    "\n",
    "def f(Model, Predictions,Metric,Precision):\n",
    "    percentages = []\n",
    "    cats = []\n",
    "    for g in garms:\n",
    "        try:\n",
    "            percentages.append( [str(x) for x in results[f'{Model}_{Predictions} {Precision}_{g}_{Metric}']])\n",
    "            cats.append(g)\n",
    "        except:\n",
    "            pass\n",
    "  \n",
    "    df = pd.DataFrame(percentages,columns = [str(i) +' fps' for i in fps_dict[Model]])\n",
    "    df['Garm Category'] = cats\n",
    "    \n",
    "   \n",
    "\n",
    "    \n",
    "\n",
    "    \n",
    "      \n",
    "    df = df[  ['Garm Category'] + [ str(i)+' fps' for i in fps_dict[Model]]]\n",
    "    df = df.set_index('Garm Category')\n",
    "  \n",
    "    \n",
    "    df = df.style.format( {i:'${0:,.0f}' for i in fps_dict[Model]}).set_caption(f'Sampling {Model} using {Predictions} Predictions {Precision}. Metric is {Metric}' ).set_table_styles([{\n",
    "    'selector': 'caption',\n",
    "    'props': [\n",
    "        ('color', 'white'),\n",
    "        ('font-size', '14px')\n",
    "    ]\n",
    "}])\n",
    "    \n",
    "    \n",
    "    return df\n",
    "    \n",
    "    \n",
    " \n",
    "    \n",
    "\n",
    "    \n",
    "\n",
    "\n",
    "widgets.interact(f, Model =models, Predictions=['Combined','No Keywords'], Precision = ['High Precision','Low Precision'],Metric=list(metrics[0][0].columns))\n"
   ]
  }
 ],
 "metadata": {
  "_draft": {
   "nbviewer_url": "https://gist.github.com/ab3f449c5c80e5ecf99b95012c0d49f2"
  },
  "gist": {
   "data": {
    "description": "unitarybot/Testing DV Metrics.ipynb",
    "public": false
   },
   "id": "ab3f449c5c80e5ecf99b95012c0d49f2"
  },
  "kernelspec": {
   "display_name": "Python [conda env:unitary] *",
   "language": "python",
   "name": "conda-env-unitary-py"
  },
  "language_info": {
   "codemirror_mode": {
    "name": "ipython",
    "version": 3
   },
   "file_extension": ".py",
   "mimetype": "text/x-python",
   "name": "python",
   "nbconvert_exporter": "python",
   "pygments_lexer": "ipython3",
   "version": "3.10.5"
  }
 },
 "nbformat": 4,
 "nbformat_minor": 5
}
